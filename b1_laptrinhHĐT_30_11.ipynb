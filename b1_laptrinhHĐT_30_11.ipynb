{
  "nbformat": 4,
  "nbformat_minor": 0,
  "metadata": {
    "colab": {
      "name": "b1-laptrinhHĐT-30-11.ipynb",
      "provenance": [],
      "authorship_tag": "ABX9TyMYSQN7Uq1fi+/cvNq8kKyT",
      "include_colab_link": true
    },
    "kernelspec": {
      "name": "python3",
      "display_name": "Python 3"
    },
    "language_info": {
      "name": "python"
    }
  },
  "cells": [
    {
      "cell_type": "markdown",
      "metadata": {
        "id": "view-in-github",
        "colab_type": "text"
      },
      "source": [
        "<a href=\"https://colab.research.google.com/github/NhuY26/bt-30-11-H-T/blob/main/b1_laptrinhH%C4%90T_30_11.ipynb\" target=\"_parent\"><img src=\"https://colab.research.google.com/assets/colab-badge.svg\" alt=\"Open In Colab\"/></a>"
      ]
    },
    {
      "cell_type": "code",
      "metadata": {
        "id": "t-B5x9WxDuzx",
        "outputId": "531a483b-f997-49be-9d02-c062720ad8a2",
        "colab": {
          "base_uri": "https://localhost:8080/"
        }
      },
      "source": [
        "class XeMay():\n",
        "    phanphoi: int\n",
        "    tenxe: str\n",
        "    xuatxu: str\n",
        "\n",
        "    def __init__(self, cc, name, fr):\n",
        "        self.phanphoi = cc\n",
        "        self.tenxe = name\n",
        "        self.xuatxu = fr\n",
        "\n",
        "    def outputXeMay(self) -> str:\n",
        "        result = \"phanphoi\" + str(self.phanphoi) + \"; tenxe\" + self.tenxe + \"; xuatxu\" + self.xuatxu\n",
        "        return result\n",
        "\n",
        "def main():\n",
        "    xeASS = XeMay(50, \"xe cup\", \"Trung Quoc\")\n",
        "    xeASA = XeMay(150, \"xe AB\", \"Viet Nam\")\n",
        "    xeLUC = XeMay(2510, \"xe Dream\", \"ITALY\")\n",
        "    print(xeASS.outputXeMay())\n",
        "    print(xeASA.outputXeMay())\n",
        "    print(xeLUC.outputXeMay())\n",
        "\n",
        "\n",
        "if __name__ == \"__main__\":\n",
        "    main()"
      ],
      "execution_count": 42,
      "outputs": [
        {
          "output_type": "stream",
          "name": "stdout",
          "text": [
            "phanphoi50; tenxexe cup; xuatxuTrung Quoc\n",
            "phanphoi150; tenxexe AB; xuatxuViet Nam\n",
            "phanphoi2510; tenxexe Dream; xuatxuITALY\n"
          ]
        }
      ]
    }
  ]
}