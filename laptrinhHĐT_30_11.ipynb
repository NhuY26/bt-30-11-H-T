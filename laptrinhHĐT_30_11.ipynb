{
  "nbformat": 4,
  "nbformat_minor": 0,
  "metadata": {
    "colab": {
      "name": "laptrinhHĐT-30-11.ipynb",
      "provenance": [],
      "authorship_tag": "ABX9TyOMz7H+sbhEh7FsKeuXIVe3",
      "include_colab_link": true
    },
    "kernelspec": {
      "name": "python3",
      "display_name": "Python 3"
    },
    "language_info": {
      "name": "python"
    }
  },
  "cells": [
    {
      "cell_type": "markdown",
      "metadata": {
        "id": "view-in-github",
        "colab_type": "text"
      },
      "source": [
        "<a href=\"https://colab.research.google.com/github/NhuY26/bt-30-11-H-T/blob/main/laptrinhH%C4%90T_30_11.ipynb\" target=\"_parent\"><img src=\"https://colab.research.google.com/assets/colab-badge.svg\" alt=\"Open In Colab\"/></a>"
      ]
    },
    {
      "cell_type": "code",
      "metadata": {
        "id": "JkyT-GlQCAD4",
        "outputId": "e026c388-6b87-4bf1-c9a3-c67682714e40",
        "colab": {
          "base_uri": "https://localhost:8080/"
        }
      },
      "source": [
        "class Person:\n",
        "  name:str\n",
        "  gender:str\n",
        "  phone:str\n",
        "\n",
        "  def __init__(self, ten, gioitinh, sdt) -> None:\n",
        "        super().__init__()\n",
        "        self.name= ten\n",
        "        self.gender = gioitinh\n",
        "        self.phone = sdt\n",
        "\n",
        "  def outputPerson(self) -> str:\n",
        "        result = \"Tên: \" + str(self.name) + \".Giới tính: \" + str(self.gender) + \".Số điện thoại: \" + str(self.phone) \n",
        "        return result\n",
        "\n",
        "class Student(Person):\n",
        "  studentID:int\n",
        "  clas:str\n",
        "\n",
        "  def __init__(self, ten, gioitinh, sdt,MaSV,lop) -> None:\n",
        "      Person.__init__(self, ten, gioitinh, sdt)\n",
        "      self.studentID = MaSV\n",
        "      self.clas= lop\n",
        "\n",
        "  def outputStudent(self) -> str:\n",
        "      result = self.outputPerson() + \".Mã số sinh viên: \" + str(self.studentID) + \".Lớp: \" +self.clas\n",
        "      return result\n",
        "\n",
        "class Lecturer(Person):\n",
        "  lecturerID:int\n",
        "  yearsOfExperience:int\n",
        "\n",
        "  def __init__(self, ten, gioitinh, sdt, MaGV,namkinhnghiem) -> None:\n",
        "        Person.__init__(self, ten, gioitinh, sdt)\n",
        "        self.lecturerID = MaGV\n",
        "        self.yearsOfExperience = namkinhnghiem\n",
        "\n",
        "  def outputLecturer(self) -> str:\n",
        "        result = self.outputPerson() + \".Mã giảng viên: \" + str(self.lecturerID) + \".Số năm kinh nghiệm \" + str(self.yearsOfExperience)\n",
        "        return result\n",
        "    \n",
        "def main():\n",
        "  banA = Student( \" Nguyen Van A\", 1, \"09222222222\", 10,\"AI&DS\" )\n",
        "  gv = Lecturer( \" thay A\", 1, \"0988833333\", 232333332, \"20 nam\")  \n",
        "  print(banA.outputStudent())\n",
        "  print(gv.outputLecturer())\n",
        "   \n",
        "\n",
        "if __name__ == \"__main__\":\n",
        "    main()"
      ],
      "execution_count": 22,
      "outputs": [
        {
          "output_type": "stream",
          "name": "stdout",
          "text": [
            "Tên:  Nguyen Van A.Giới tính: 1.Số điện thoại: 09222222222.Mã số sinh viên: 10.Lớp: AI&DS\n",
            "Tên:  thay A.Giới tính: 1.Số điện thoại: 0988833333.Mã giảng viên: 232333332.Số năm kinh nghiệm 20 nam\n"
          ]
        }
      ]
    }
  ]
}